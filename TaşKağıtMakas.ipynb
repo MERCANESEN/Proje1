{
  "cells": [
    {
      "cell_type": "markdown",
      "metadata": {
        "id": "view-in-github",
        "colab_type": "text"
      },
      "source": [
        "<a href=\"https://colab.research.google.com/github/MERCANESEN/PythonProjeleri/blob/main/Ta%C5%9FKa%C4%9F%C4%B1tMakas.ipynb\" target=\"_parent\"><img src=\"https://colab.research.google.com/assets/colab-badge.svg\" alt=\"Open In Colab\"/></a>"
      ]
    },
    {
      "cell_type": "code",
      "source": [
        "\n",
        "import random\n",
        "import emoji\n",
        "from colorama import Fore, Style, init\n",
        "\n",
        "BLINK = '\\033[5m'\n",
        "RESET = '\\033[0m'\n",
        "# Kullanıcıdan tekrar sayısını al\n",
        "sayi = int(input(\"Kaç Tur Oynamak İstiyorsunuz: \"))\n",
        "\n",
        "players = ['Player1', 'Player2']\n",
        "actions = ['taş', 'kağıt', 'makas']\n",
        "puan ={'Player1': 0 , 'Player2': 0}\n",
        "berabere_counter=0\n",
        "\n",
        "# Oyunu belirtilen sayı kadar tekrarla\n",
        "for i in range(sayi):\n",
        "    # Her tur için oyuncuların seçimlerini belirle\n",
        "    player_choice = {}\n",
        "    for player in players:\n",
        "        action = random.choice(actions)\n",
        "        player_choice[player] = action\n",
        "\n",
        "    # Oyuncuların seçimlerini yazdır\n",
        "    print(f\"Tur {i + 1}:\")\n",
        "    for player, action in player_choice.items():\n",
        "        print(f\"{player}: {action}\")\n",
        "\n",
        "    # Oyuncuların aynı eylemi seçip seçmediğini kontrol et\n",
        "\n",
        "    if player_choice['Player1'] == player_choice['Player2']:\n",
        "        print(\"Berabere! Her iki oyuncu da aynı eylemi seçti.\")\n",
        "        berabere_counter += 1\n",
        "    else:\n",
        "        # Player1 kazandı mı kontrol et\n",
        "        if (player_choice['Player1'] == 'taş' and player_choice['Player2'] == 'makas') or \\\n",
        "           (player_choice['Player1'] == 'makas' and player_choice['Player2'] == 'kağıt') or \\\n",
        "           (player_choice['Player1'] == 'kağıt' and player_choice['Player2'] == 'taş'):\n",
        "            print(\"Player1 Kazandı\")\n",
        "            puan['Player1'] += 1\n",
        "        else:\n",
        "            print(\"Player2 Kazandı\")\n",
        "            puan['Player2'] += 1\n",
        "\n",
        "    print(\"   \")\n",
        "\n",
        "print(f\"{Fore.YELLOW}Oyun Sonu Skor:\")\n",
        "print(f\"{Fore.BLUE}Player1 kazandığı tur sayısı: {puan['Player1']}\")\n",
        "print(f\"{Fore.MAGENTA}Player2 kazandığı tur sayısı: {puan['Player2']}\")\n",
        "print(f\"{Fore.GREEN}Berabere kalınan tur sayısı: {berabere_counter}\")\n",
        "\n",
        "print(\"   \")\n",
        "\n",
        "if puan['Player1'] > puan['Player2']:\n",
        "    print(f\"{Fore.RED}Player1 Kazandı {emoji.emojize(':trophy:')}\")\n",
        "elif puan['Player2'] > puan['Player1']:\n",
        "    print(f\"{Fore.RED}Player2 Kazandı {emoji.emojize(':trophy:')} \")\n",
        "else:\n",
        "    print(f\"{Fore.RED}Oyuncular Berbare Kaldı {emoji.emojize(':handshake:')}\")\n"
      ],
      "metadata": {
        "colab": {
          "base_uri": "https://localhost:8080/"
        },
        "id": "1yoExuCXtWNM",
        "outputId": "c767a932-1138-4386-8637-8a38fdc58640"
      },
      "execution_count": 33,
      "outputs": [
        {
          "output_type": "stream",
          "name": "stdout",
          "text": [
            "Kaç Tur Oynamak İstiyorsunuz: 5\n",
            "Tur 1:\n",
            "Player1: kağıt\n",
            "Player2: taş\n",
            "Player1 Kazandı\n",
            "   \n",
            "Tur 2:\n",
            "Player1: taş\n",
            "Player2: taş\n",
            "Berabere! Her iki oyuncu da aynı eylemi seçti.\n",
            "   \n",
            "Tur 3:\n",
            "Player1: makas\n",
            "Player2: kağıt\n",
            "Player1 Kazandı\n",
            "   \n",
            "Tur 4:\n",
            "Player1: taş\n",
            "Player2: taş\n",
            "Berabere! Her iki oyuncu da aynı eylemi seçti.\n",
            "   \n",
            "Tur 5:\n",
            "Player1: kağıt\n",
            "Player2: taş\n",
            "Player1 Kazandı\n",
            "   \n",
            "\u001b[33mOyun Sonu Skor:\n",
            "\u001b[34mPlayer1 kazandığı tur sayısı: 3\n",
            "\u001b[35mPlayer2 kazandığı tur sayısı: 0\n",
            "\u001b[32mBerabere kalınan tur sayısı: 2\n",
            "   \n",
            "\u001b[31mPlayer1 Kazandı 🏆\n"
          ]
        }
      ]
    }
  ],
  "metadata": {
    "colab": {
      "provenance": [],
      "authorship_tag": "ABX9TyOasaYAXkR7dSTs/+XSvG+9",
      "include_colab_link": true
    },
    "kernelspec": {
      "display_name": "Python 3",
      "name": "python3"
    },
    "language_info": {
      "name": "python"
    }
  },
  "nbformat": 4,
  "nbformat_minor": 0
}